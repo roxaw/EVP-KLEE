{
  "cells": [
    {
      "cell_type": "markdown",
      "metadata": {},
      "source": [
        "# EVP-KLEE: Enhanced Value Profiling for KLEE - Google Colab Demo\n",
        "\n",
        "This notebook demonstrates the EVP-KLEE automated symbolic execution pipeline in Google Colab.\n",
        "\n",
        "## Overview\n",
        "EVP-KLEE is a three-phase pipeline that enhances KLEE with value profiling capabilities:\n",
        "1. **Phase 1**: Extract bitcode and instrument programs\n",
        "2. **Phase 2**: Run tests and collect value profiles  \n",
        "3. **Phase 3**: Run KLEE with and without EVP enhancements\n",
        "\n",
        "## Setup Instructions\n",
        "1. Mount your Google Drive\n",
        "2. Upload the EVP-KLEE project files\n",
        "3. Install dependencies\n",
        "4. Run the automated demo\n"
      ]
    },
    {
      "cell_type": "markdown",
      "metadata": {},
      "source": [
        "## 1. Environment Setup\n"
      ]
    },
    {
      "cell_type": "code",
      "execution_count": null,
      "metadata": {},
      "outputs": [],
      "source": [
        "# Mount Google Drive\n",
        "from google.colab import drive\n",
        "drive.mount('/content/drive')\n",
        "\n",
        "print(\"Google Drive mounted successfully!\")\n",
        "print(\"Please upload your EVP-KLEE project to Google Drive first.\")\n",
        "print(\"Expected path: /content/drive/MyDrive/EVP-KLEE/\")\n"
      ]
    },
    {
      "cell_type": "code",
      "execution_count": null,
      "metadata": {},
      "outputs": [],
      "source": [
        "# Install system dependencies\n",
        "!apt update\n",
        "!apt install -y build-essential cmake git wget curl vim nano htop time \\\n",
        "    python3 python3-pip python3-venv python3-dev pkg-config \\\n",
        "    libncurses5-dev libncursesw5-dev zlib1g-dev libedit-dev \\\n",
        "    libxml2-dev libzstd-dev libsqlite3-dev libssl-dev libffi-dev \\\n",
        "    libbz2-dev libreadline-dev libgdbm-dev liblzma-dev libtinfo-dev \\\n",
        "    libc6-dev libc++-dev libc++abi-dev\n",
        "\n",
        "print(\"System dependencies installed!\")\n"
      ]
    },
    {
      "cell_type": "code",
      "execution_count": null,
      "metadata": {},
      "outputs": [],
      "source": [
        "# Install LLVM 10 and Clang 10\n",
        "!apt install -y llvm-10 llvm-10-dev llvm-10-tools clang-10 libclang-10-dev\n",
        "\n",
        "# Create symlinks for easier access\n",
        "!ln -s /usr/bin/llvm-config-10 /usr/bin/llvm-config\n",
        "!ln -s /usr/bin/clang-10 /usr/bin/clang\n",
        "!ln -s /usr/bin/clang++-10 /usr/bin/clang++\n",
        "!ln -s /usr/lib/llvm-10 /usr/lib/llvm\n",
        "\n",
        "print(\"LLVM 10 and Clang 10 installed!\")\n"
      ]
    },
    {
      "cell_type": "code",
      "execution_count": null,
      "metadata": {},
      "outputs": [],
      "source": [
        "# Install STP Solver\n",
        "!cd /tmp && git clone https://github.com/stp/stp.git\n",
        "!cd /tmp/stp && git checkout 2.3.3\n",
        "!cd /tmp/stp && mkdir build && cd build\n",
        "!cd /tmp/stp/build && cmake -DCMAKE_BUILD_TYPE=Release -DBUILD_SHARED_LIBS=ON ..\n",
        "!cd /tmp/stp/build && make -j$(nproc)\n",
        "!cd /tmp/stp/build && make install\n",
        "!ldconfig\n",
        "!rm -rf /tmp/stp\n",
        "\n",
        "print(\"STP Solver installed!\")\n"
      ]
    },
    {
      "cell_type": "code",
      "execution_count": null,
      "metadata": {},
      "outputs": [],
      "source": [
        "# Install Z3 Solver\n",
        "!cd /tmp && wget https://github.com/Z3Prover/z3/releases/download/z3-4.8.12/z3-4.8.12-x64-ubuntu-18.04.zip\n",
        "!cd /tmp && unzip z3-4.8.12-x64-ubuntu-18.04.zip\n",
        "!cd /tmp && cp z3-4.8.12-x64-ubuntu-18.04/bin/z3 /usr/local/bin/\n",
        "!cd /tmp && cp z3-4.8.12-x64-ubuntu-18.04/bin/libz3.so /usr/local/lib/\n",
        "!ldconfig\n",
        "!rm -rf /tmp/z3-4.8.12-x64-ubuntu-18.04*\n",
        "\n",
        "print(\"Z3 Solver installed!\")\n"
      ]
    },
    {
      "cell_type": "code",
      "execution_count": null,
      "metadata": {},
      "outputs": [],
      "source": [
        "# Install Python dependencies\n",
        "%pip install --upgrade pip\n",
        "%pip install wllvm\n",
        "%pip install matplotlib seaborn pandas numpy scipy\n",
        "%pip install jupyter ipywidgets\n",
        "\n",
        "print(\"Python dependencies installed!\")\n"
      ]
    },
    {
      "cell_type": "markdown",
      "metadata": {},
      "source": [
        "## 2. Project Setup\n"
      ]
    },
    {
      "cell_type": "code",
      "execution_count": null,
      "metadata": {},
      "outputs": [],
      "source": [
        "import os\n",
        "import sys\n",
        "from pathlib import Path\n",
        "import shutil\n",
        "\n",
        "# Set up project directory\n",
        "PROJECT_ROOT = \"/content/EVP-KLEE\"\n",
        "DRIVE_PATH = \"/content/drive/MyDrive/EVP-KLEE\"\n",
        "\n",
        "# Check if project exists in Drive\n",
        "if os.path.exists(DRIVE_PATH):\n",
        "    print(f\"Found EVP-KLEE project in Drive: {DRIVE_PATH}\")\n",
        "    # Copy project to local workspace\n",
        "    if os.path.exists(PROJECT_ROOT):\n",
        "        shutil.rmtree(PROJECT_ROOT)\n",
        "    shutil.copytree(DRIVE_PATH, PROJECT_ROOT)\n",
        "    print(f\"Project copied to: {PROJECT_ROOT}\")\n",
        "else:\n",
        "    print(f\"EVP-KLEE project not found in Drive at: {DRIVE_PATH}\")\n",
        "    print(\"Please upload your project to Google Drive first.\")\n",
        "    print(\"You can use the upload button in the file browser or run:\")\n",
        "    print(\"!git clone https://github.com/roxaw/evp-klee-artifact.git /content/EVP-KLEE\")\n",
        "\n",
        "# Change to project directory\n",
        "os.chdir(PROJECT_ROOT)\n",
        "print(f\"Current directory: {os.getcwd()}\")\n",
        "\n",
        "# List project contents\n",
        "print(\"\\nProject contents:\")\n",
        "!ls -la\n"
      ]
    },
    {
      "cell_type": "code",
      "execution_count": null,
      "metadata": {},
      "outputs": [],
      "source": [
        "# Build KLEE (this may take 10-15 minutes)\n",
        "print(\"Building KLEE... This may take 10-15 minutes.\")\n",
        "!bash scripts/build_klee.sh\n",
        "\n",
        "print(\"KLEE build completed!\")\n"
      ]
    },
    {
      "cell_type": "markdown",
      "metadata": {},
      "source": [
        "## 3. EVP-KLEE Automated Demo\n"
      ]
    },
    {
      "cell_type": "code",
      "execution_count": null,
      "metadata": {},
      "outputs": [],
      "source": [
        "# Run the automated demo\n",
        "import subprocess\n",
        "import json\n",
        "from datetime import datetime\n",
        "\n",
        "print(\"Starting EVP-KLEE Automated Demo...\")\n",
        "print(f\"Timestamp: {datetime.now()}\")\n",
        "print(\"=\" * 60)\n",
        "\n",
        "# Change to automated_demo directory\n",
        "os.chdir(\"automated_demo\")\n",
        "\n",
        "# Run the pipeline\n",
        "result = subprocess.run([\"python3\", \"evp_pipeline.py\", \"coreutils\"], \n",
        "                       capture_output=True, text=True, timeout=3600)\n",
        "\n",
        "print(\"STDOUT:\")\n",
        "print(result.stdout)\n",
        "\n",
        "if result.stderr:\n",
        "    print(\"\\nSTDERR:\")\n",
        "    print(result.stderr)\n",
        "\n",
        "print(f\"\\nReturn code: {result.returncode}\")\n"
      ]
    },
    {
      "cell_type": "markdown",
      "metadata": {},
      "source": [
        "## 4. Results Analysis\n"
      ]
    },
    {
      "cell_type": "code",
      "execution_count": null,
      "metadata": {},
      "outputs": [],
      "source": [
        "import pandas as pd\n",
        "import matplotlib.pyplot as plt\n",
        "import seaborn as sns\n",
        "import json\n",
        "from pathlib import Path\n",
        "\n",
        "# Set up plotting\n",
        "plt.style.use('seaborn-v0_8')\n",
        "sns.set_palette(\"husl\")\n",
        "\n",
        "# Find results directory\n",
        "results_dir = Path(\"../benchmarks/evp_artifacts\")\n",
        "if results_dir.exists():\n",
        "    print(f\"Results directory found: {results_dir}\")\n",
        "    print(\"\\nResults structure:\")\n",
        "    !find {results_dir} -name \"*.json\" -o -name \"*.txt\" | head -20\n",
        "else:\n",
        "    print(\"Results directory not found. Demo may not have completed successfully.\")\n",
        "\n",
        "# Look for KLEE results\n",
        "klee_results = list(results_dir.glob(\"**/klee_results_*.json\"))\n",
        "if klee_results:\n",
        "    print(f\"\\nFound {len(klee_results)} KLEE result files:\")\n",
        "    for result_file in klee_results:\n",
        "        print(f\"  - {result_file}\")\n",
        "else:\n",
        "    print(\"\\nNo KLEE results found.\")\n"
      ]
    },
    {
      "cell_type": "code",
      "execution_count": null,
      "metadata": {},
      "outputs": [],
      "source": [
        "# Visualize results if available\n",
        "if klee_results:\n",
        "    # Load and analyze results\n",
        "    results_data = []\n",
        "    \n",
        "    for result_file in klee_results:\n",
        "        with open(result_file, 'r') as f:\n",
        "            data = json.load(f)\n",
        "            results_data.append(data)\n",
        "    \n",
        "    # Create comparison plots\n",
        "    fig, axes = plt.subplots(2, 2, figsize=(15, 10))\n",
        "    fig.suptitle('EVP-KLEE Performance Comparison', fontsize=16)\n",
        "    \n",
        "    programs = [r['program'] for r in results_data]\n",
        "    vanilla_tests = [r['vanilla']['ktest_count'] for r in results_data]\n",
        "    evp_tests = [r['evp']['ktest_count'] for r in results_data]\n",
        "    \n",
        "    # Test case count comparison\n",
        "    axes[0,0].bar(programs, vanilla_tests, alpha=0.7, label='Vanilla KLEE')\n",
        "    axes[0,0].bar(programs, evp_tests, alpha=0.7, label='EVP KLEE')\n",
        "    axes[0,0].set_title('Test Cases Generated')\n",
        "    axes[0,0].set_ylabel('Number of Test Cases')\n",
        "    axes[0,0].legend()\n",
        "    axes[0,0].tick_params(axis='x', rotation=45)\n",
        "    \n",
        "    # Performance improvement\n",
        "    improvements = [(v-e)/v*100 if v > 0 else 0 for v, e in zip(vanilla_tests, evp_tests)]\n",
        "    axes[0,1].bar(programs, improvements, color='green', alpha=0.7)\n",
        "    axes[0,1].set_title('Performance Improvement (%)')\n",
        "    axes[0,1].set_ylabel('Improvement %')\n",
        "    axes[0,1].tick_params(axis='x', rotation=45)\n",
        "    \n",
        "    # Success rate\n",
        "    vanilla_success = [1 if r['vanilla']['success'] else 0 for r in results_data]\n",
        "    evp_success = [1 if r['evp']['success'] else 0 for r in results_data]\n",
        "    \n",
        "    x = range(len(programs))\n",
        "    width = 0.35\n",
        "    axes[1,0].bar([i - width/2 for i in x], vanilla_success, width, label='Vanilla KLEE', alpha=0.7)\n",
        "    axes[1,0].bar([i + width/2 for i in x], evp_success, width, label='EVP KLEE', alpha=0.7)\n",
        "    axes[1,0].set_title('Success Rate')\n",
        "    axes[1,0].set_ylabel('Success (1) / Failure (0)')\n",
        "    axes[1,0].set_xticks(x)\n",
        "    axes[1,0].set_xticklabels(programs, rotation=45)\n",
        "    axes[1,0].legend()\n",
        "    \n",
        "    # Summary statistics\n",
        "    axes[1,1].text(0.1, 0.8, f'Total Programs: {len(programs)}', transform=axes[1,1].transAxes, fontsize=12)\n",
        "    axes[1,1].text(0.1, 0.7, f'Vanilla Success: {sum(vanilla_success)}/{len(programs)}', transform=axes[1,1].transAxes, fontsize=12)\n",
        "    axes[1,1].text(0.1, 0.6, f'EVP Success: {sum(evp_success)}/{len(programs)}', transform=axes[1,1].transAxes, fontsize=12)\n",
        "    axes[1,1].text(0.1, 0.5, f'Avg Improvement: {sum(improvements)/len(improvements):.1f}%', transform=axes[1,1].transAxes, fontsize=12)\n",
        "    axes[1,1].set_title('Summary Statistics')\n",
        "    axes[1,1].axis('off')\n",
        "    \n",
        "    plt.tight_layout()\n",
        "    plt.show()\n",
        "    \n",
        "    # Print detailed results\n",
        "    print(\"\\nDetailed Results:\")\n",
        "    print(\"=\" * 80)\n",
        "    for data in results_data:\n",
        "        print(f\"\\nProgram: {data['program']}\")\n",
        "        print(f\"  Vanilla KLEE: {'SUCCESS' if data['vanilla']['success'] else 'FAILED'}\")\n",
        "        print(f\"    - Test cases: {data['vanilla']['ktest_count']}\")\n",
        "        print(f\"  EVP KLEE: {'SUCCESS' if data['evp']['success'] else 'FAILED'}\")\n",
        "        print(f\"    - Test cases: {data['evp']['ktest_count']}\")\n",
        "        if data['vanilla']['success'] and data['evp']['success']:\n",
        "            improvement = (data['vanilla']['ktest_count'] - data['evp']['ktest_count']) / data['vanilla']['ktest_count'] * 100\n",
        "            print(f\"    - Improvement: {improvement:.2f}%\")\n",
        "else:\n",
        "    print(\"No results available for visualization.\")\n"
      ]
    },
    {
      "cell_type": "markdown",
      "metadata": {},
      "source": [
        "## 5. Save Results to Google Drive\n"
      ]
    },
    {
      "cell_type": "code",
      "execution_count": null,
      "metadata": {},
      "outputs": [],
      "source": [
        "# Save results back to Google Drive\n",
        "import shutil\n",
        "from datetime import datetime\n",
        "\n",
        "timestamp = datetime.now().strftime(\"%Y%m%d_%H%M%S\")\n",
        "results_backup = f\"/content/drive/MyDrive/EVP-KLEE-Results-{timestamp}\"\n",
        "\n",
        "if os.path.exists(\"../benchmarks/evp_artifacts\"):\n",
        "    shutil.copytree(\"../benchmarks/evp_artifacts\", f\"{results_backup}/evp_artifacts\")\n",
        "    print(f\"Results saved to: {results_backup}\")\n",
        "    \n",
        "    # Also save the notebook output\n",
        "    shutil.copy(\"evp_colab_demo.ipynb\", f\"{results_backup}/\")\n",
        "    print(\"Notebook saved to Drive as well.\")\n",
        "else:\n",
        "    print(\"No results to save.\")\n",
        "\n",
        "print(\"\\nDemo completed! Check your Google Drive for results.\")\n"
      ]
    },
    {
      "cell_type": "markdown",
      "metadata": {},
      "source": [
        "## 6. Cursor IDE Integration\n",
        "\n",
        "To integrate this with Cursor IDE:\n",
        "\n",
        "1. **Download the notebook**: Save this notebook to your local machine\n",
        "2. **Open in Cursor**: Open the notebook file in Cursor IDE\n",
        "3. **Install Jupyter extension**: Install the Jupyter extension in Cursor\n",
        "4. **Connect to Colab**: Use the local runtime connection method\n",
        "5. **Sync with Drive**: Your results will be automatically synced to Google Drive\n",
        "\n",
        "### Alternative: Direct Cursor Integration\n",
        "\n",
        "You can also run this directly in Cursor by:\n",
        "1. Installing the required dependencies locally\n",
        "2. Cloning the EVP-KLEE repository\n",
        "3. Running the automated demo directly\n",
        "\n",
        "This approach gives you the full power of Cursor's AI assistance while working with your EVP-KLEE project.\n"
      ]
    }
  ],
  "metadata": {
    "language_info": {
      "name": "python"
    }
  },
  "nbformat": 4,
  "nbformat_minor": 2
}
